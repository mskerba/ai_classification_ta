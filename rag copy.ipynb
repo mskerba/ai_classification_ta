{
 "cells": [
  {
   "cell_type": "code",
   "execution_count": 1,
   "id": "205833ce",
   "metadata": {},
   "outputs": [],
   "source": [
    "import pandas as pd\n",
    "\n",
    "# Load your Excel file\n",
    "df = pd.read_excel(\"test01.xlsx\")\n",
    "\n",
    "# Combine columns into a single document string for each row\n",
    "df[\"content\"] = (\n",
    "    df[\"Systeme\"].astype(str) + \" | \" +\n",
    "    df[\"Description\"].astype(str) + \" | \" +\n",
    "    df[\"Description de l'équipement\"].astype(str)\n",
    ")\n"
   ]
  },
  {
   "cell_type": "code",
   "execution_count": 9,
   "id": "31d61720",
   "metadata": {},
   "outputs": [
    {
     "ename": "ModuleNotFoundError",
     "evalue": "No module named 'sentence_transformers'",
     "output_type": "error",
     "traceback": [
      "\u001b[31m---------------------------------------------------------------------------\u001b[39m",
      "\u001b[31mModuleNotFoundError\u001b[39m                       Traceback (most recent call last)",
      "\u001b[36mCell\u001b[39m\u001b[36m \u001b[39m\u001b[32mIn[9]\u001b[39m\u001b[32m, line 1\u001b[39m\n\u001b[32m----> \u001b[39m\u001b[32m1\u001b[39m \u001b[38;5;28;01mfrom\u001b[39;00m\u001b[38;5;250m \u001b[39m\u001b[34;01msentence_transformers\u001b[39;00m\u001b[38;5;250m \u001b[39m\u001b[38;5;28;01mimport\u001b[39;00m SentenceTransformer\n\u001b[32m      2\u001b[39m model = SentenceTransformer(\u001b[33m\"\u001b[39m\u001b[33mall-MiniLM-L6-v2\u001b[39m\u001b[33m\"\u001b[39m)\n\u001b[32m      4\u001b[39m df[\u001b[33m\"\u001b[39m\u001b[33membedding\u001b[39m\u001b[33m\"\u001b[39m] = model.encode(df[\u001b[33m\"\u001b[39m\u001b[33mcontent\u001b[39m\u001b[33m\"\u001b[39m].tolist()).tolist()\n",
      "\u001b[31mModuleNotFoundError\u001b[39m: No module named 'sentence_transformers'"
     ]
    }
   ],
   "source": [
    "from sentence_transformers import SentenceTransformer\n",
    "model = SentenceTransformer(\"all-MiniLM-L6-v2\")\n",
    "\n",
    "df[\"embedding\"] = model.encode(df[\"content\"].tolist()).tolist()\n",
    "\n"
   ]
  },
  {
   "cell_type": "code",
   "execution_count": null,
   "id": "82d81d1e",
   "metadata": {},
   "outputs": [],
   "source": [
    "import faiss\n",
    "\n",
    "# Convert to numpy array\n",
    "embedding_matrix = np.array(df[\"embedding\"].tolist()).astype(\"float32\")\n",
    "\n",
    "# Build FAISS index\n",
    "index = faiss.IndexFlatL2(embedding_matrix.shape[1])\n",
    "index.add(embedding_matrix)\n"
   ]
  },
  {
   "cell_type": "code",
   "execution_count": null,
   "id": "bf35bdd5",
   "metadata": {},
   "outputs": [],
   "source": [
    "def ask_rag(query, top_k=5):\n",
    "    query_embedding = np.array(get_embedding(query)).astype(\"float32\").reshape(1, -1)\n",
    "    D, I = index.search(query_embedding, top_k)\n",
    "    contexts = df.iloc[I[0]][\"content\"].tolist()\n",
    "\n",
    "    # Concatenate retrieved context\n",
    "    prompt = \"Voici des anomalies liées aux équipements:\\n\"\n",
    "    for i, ctx in enumerate(contexts):\n",
    "        prompt += f\"{i+1}. {ctx}\\n\"\n",
    "    prompt += f\"\\nÀ partir de ces informations, réponds à la question suivante:\\n{query}\"\n",
    "\n",
    "    response = openai.ChatCompletion.create(\n",
    "        model=\"gpt-4-turbo\",\n",
    "        messages=[{\"role\": \"user\", \"content\": prompt}]\n",
    "    )\n",
    "    return response.choices[0].message.content\n",
    "\n",
    "# Example\n",
    "print(ask_rag(\"Quels sont les anomalies qui peuvent causer une perte de sécurité de process ?\"))\n"
   ]
  }
 ],
 "metadata": {
  "kernelspec": {
   "display_name": "venv",
   "language": "python",
   "name": "python3"
  },
  "language_info": {
   "codemirror_mode": {
    "name": "ipython",
    "version": 3
   },
   "file_extension": ".py",
   "mimetype": "text/x-python",
   "name": "python",
   "nbconvert_exporter": "python",
   "pygments_lexer": "ipython3",
   "version": "3.12.11"
  }
 },
 "nbformat": 4,
 "nbformat_minor": 5
}
