{
 "cells": [
  {
   "cell_type": "code",
   "execution_count": 2,
   "id": "9f6acbea",
   "metadata": {},
   "outputs": [
    {
     "name": "stdout",
     "output_type": "stream",
     "text": [
      "📊 Model Evaluation on Test Data:\n",
      "  ➤ RMSE (Fiabilité Intégrité, Disponibilté, Process Safety): [0.43052555 0.64609955 0.74934298]\n",
      "  ➤ R²    (Fiabilité Intégrité, Disponibilté, Process Safety): [0.41651457 0.67834423 0.6633514 ]\n",
      "\n",
      "✅ Scoring complete! Results saved to 'scored_anomalies.xlsx'\n"
     ]
    }
   ],
   "source": [
    "# === STEP 1: Install required packages ===\n",
    "# pip install pandas openpyxl scikit-learn\n",
    "\n",
    "import pandas as pd\n",
    "import numpy as np\n",
    "from sklearn.model_selection import train_test_split\n",
    "from sklearn.feature_extraction.text import TfidfVectorizer\n",
    "from sklearn.multioutput import MultiOutputRegressor\n",
    "from sklearn.linear_model import Ridge\n",
    "from sklearn.pipeline import Pipeline\n",
    "from sklearn.metrics import mean_squared_error, r2_score\n",
    "\n",
    "# === STEP 2: Load Labeled Training Data ===\n",
    "df_train = pd.read_excel(\"test01.xlsx\")\n",
    "\n",
    "# Combine relevant fields into one text string\n",
    "df_train[\"text\"] = (\n",
    "    df_train[\"Systeme\"].astype(str) + \" | \" +\n",
    "    df_train[\"Description\"].astype(str) + \" | \" +\n",
    "    df_train[\"Description de l'équipement\"].astype(str)\n",
    ")\n",
    "\n",
    "# Drop rows with missing target values\n",
    "df_train = df_train.dropna(subset=[\"Fiabilité Intégrité\", \"Disponibilté\", \"Process Safety\"])\n",
    "\n",
    "# Define features and targets\n",
    "X = df_train[\"text\"]\n",
    "y = df_train[[\"Fiabilité Intégrité\", \"Disponibilté\", \"Process Safety\"]]\n",
    "\n",
    "# === STEP 3: Split Data for Evaluation ===\n",
    "X_train, X_test, y_train, y_test = train_test_split(X, y, test_size=0.2, random_state=42)\n",
    "\n",
    "# === STEP 4: Build and Train Model ===\n",
    "model = Pipeline([\n",
    "    (\"tfidf\", TfidfVectorizer(max_features=1000, ngram_range=(1, 2))),\n",
    "    (\"regressor\", MultiOutputRegressor(Ridge()))\n",
    "])\n",
    "\n",
    "model.fit(X_train, y_train)\n",
    "\n",
    "# === STEP 5: Evaluate on Test Set ===\n",
    "y_pred = model.predict(X_test)\n",
    "rmse = np.sqrt(mean_squared_error(y_test, y_pred, multioutput='raw_values'))\n",
    "r2 = r2_score(y_test, y_pred, multioutput='raw_values')\n",
    "\n",
    "print(\"📊 Model Evaluation on Test Data:\")\n",
    "print(f\"  ➤ RMSE (Fiabilité Intégrité, Disponibilté, Process Safety): {rmse}\")\n",
    "print(f\"  ➤ R²    (Fiabilité Intégrité, Disponibilté, Process Safety): {r2}\")\n",
    "\n",
    "# === STEP 6: Predict on New Unlabeled File ===\n",
    "df_new = pd.read_excel(\"test01wfi.xlsx\")\n",
    "df_new[\"text\"] = (\n",
    "    df_new[\"Systeme\"].astype(str) + \" | \" +\n",
    "    df_new[\"Description\"].astype(str) + \" | \" +\n",
    "    df_new[\"Description de l'équipement\"].astype(str)\n",
    ")\n",
    "\n",
    "# Predict using trained model\n",
    "X_new = df_new[\"text\"]\n",
    "predictions = model.predict(X_new)\n",
    "\n",
    "# Round and clip predictions to integer scale 1–5\n",
    "predicted_scores = pd.DataFrame(predictions, columns=[\"Fiabilité Intégrité\", \"Disponibilté\", \"Process Safety\"])\n",
    "predicted_scores = predicted_scores.round().clip(1, 5).astype(int)\n",
    "\n",
    "# Combine predictions with original data\n",
    "df_result = pd.concat([df_new, predicted_scores], axis=1)\n",
    "\n",
    "# Save to Excel\n",
    "df_result.to_excel(\"scored_anomalies.xlsx\", index=False)\n",
    "print(\"\\n✅ Scoring complete! Results saved to 'scored_anomalies.xlsx'\")\n"
   ]
  }
 ],
 "metadata": {
  "kernelspec": {
   "display_name": ".venv",
   "language": "python",
   "name": "python3"
  },
  "language_info": {
   "codemirror_mode": {
    "name": "ipython",
    "version": 3
   },
   "file_extension": ".py",
   "mimetype": "text/x-python",
   "name": "python",
   "nbconvert_exporter": "python",
   "pygments_lexer": "ipython3",
   "version": "3.12.1"
  }
 },
 "nbformat": 4,
 "nbformat_minor": 5
}
